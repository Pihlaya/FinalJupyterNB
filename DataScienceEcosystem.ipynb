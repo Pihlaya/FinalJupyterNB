{
 "cells": [
  {
   "cell_type": "markdown",
   "id": "9dea9f2a",
   "metadata": {},
   "source": [
    "# Data Science Tools and Ecosystem"
   ]
  },
  {
   "cell_type": "markdown",
   "id": "f5de4e35",
   "metadata": {},
   "source": [
    "In this notebook, Data Science Tools and Ecosystem are summarized."
   ]
  },
  {
   "cell_type": "markdown",
   "id": "3a9487ba",
   "metadata": {},
   "source": [
    "**Objectives:**\n",
    "* List popular languagesfor Data Science\n",
    "* List commonly used libraries used by Data Scientist\n",
    "* Multiplying integers in Python\n",
    "* Converting minutes to hours in Python\n"
   ]
  },
  {
   "cell_type": "markdown",
   "id": "4a690b76",
   "metadata": {},
   "source": [
    "**Some of the popular languages that Data Scientists use are:**\n",
    "1. Python\n",
    "2. R\n",
    "3. Julia"
   ]
  },
  {
   "cell_type": "markdown",
   "id": "0828c97c",
   "metadata": {},
   "source": [
    "**Some of the commonly used libraries used by Data Scientists include:**\n",
    "\n",
    "1. Pandas\n",
    "2. Numpy\n",
    "3. ggplot\n",
    "4. Matplotlib"
   ]
  },
  {
   "cell_type": "markdown",
   "id": "485f509d",
   "metadata": {},
   "source": [
    "|Data Science Tools|\n",
    "|------------------|\n",
    "|R Studio|\n",
    "|Jupyter Notebook|\n",
    "|Spyder|"
   ]
  },
  {
   "cell_type": "markdown",
   "id": "12f33231",
   "metadata": {},
   "source": [
    "### Below are a few examples of evaluating arithmetic expressions in Python"
   ]
  },
  {
   "cell_type": "code",
   "execution_count": 1,
   "id": "7279e87d",
   "metadata": {},
   "outputs": [
    {
     "data": {
      "text/plain": [
       "17"
      ]
     },
     "execution_count": 1,
     "metadata": {},
     "output_type": "execute_result"
    }
   ],
   "source": [
    "#This a simple arithmetic expression to mutiply then add integers\n",
    "(3*4)+5"
   ]
  },
  {
   "cell_type": "code",
   "execution_count": 2,
   "id": "8e5d2995",
   "metadata": {},
   "outputs": [
    {
     "name": "stdout",
     "output_type": "stream",
     "text": [
      "3.3333333333333335\n"
     ]
    }
   ],
   "source": [
    "#This will convert 200 minutes to hours by diving by 60\n",
    "hours = 200 / 60\n",
    "print(hours)"
   ]
  },
  {
   "cell_type": "markdown",
   "id": "e80f98d5",
   "metadata": {},
   "source": [
    "## Author\n",
    "Saku Ollikkala"
   ]
  },
  {
   "cell_type": "code",
   "execution_count": null,
   "id": "7860bb77",
   "metadata": {},
   "outputs": [],
   "source": []
  }
 ],
 "metadata": {
  "kernelspec": {
   "display_name": "Python 3 (ipykernel)",
   "language": "python",
   "name": "python3"
  },
  "language_info": {
   "codemirror_mode": {
    "name": "ipython",
    "version": 3
   },
   "file_extension": ".py",
   "mimetype": "text/x-python",
   "name": "python",
   "nbconvert_exporter": "python",
   "pygments_lexer": "ipython3",
   "version": "3.11.7"
  }
 },
 "nbformat": 4,
 "nbformat_minor": 5
}
